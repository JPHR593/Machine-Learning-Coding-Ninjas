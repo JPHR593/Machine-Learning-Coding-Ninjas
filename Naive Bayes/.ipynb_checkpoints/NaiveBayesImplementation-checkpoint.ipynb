{
 "cells": [
  {
   "cell_type": "code",
   "execution_count": 2,
   "metadata": {},
   "outputs": [],
   "source": [
    "import numpy as np"
   ]
  },
  {
   "cell_type": "code",
   "execution_count": 1,
   "metadata": {},
   "outputs": [],
   "source": [
    "def fit(X_train, Y_train) :\n",
    "    result = {}\n",
    "    class_values = set(Y_train)\n",
    "    \n",
    "    result['total_data'] = len(Y_train)\n",
    "    \n",
    "    for current_class in class_values :\n",
    "        result[current_class] = {}\n",
    "        \n",
    "        current_class_rows = (Y_train == current_class)\n",
    "        X_train_current = X_train[current_class_rows]\n",
    "        Y_train_current = Y_train[current_class_rows]\n",
    "        \n",
    "        num_features = X_train.shape[1]\n",
    "        \n",
    "        result[current_class][\"total_count\"] = len(Y_train_current)\n",
    "        \n",
    "        for j in range(1, num_features + 1) :\n",
    "            result[current_class][j] = {}\n",
    "            all_possible_values = set(X_train[:, j])\n",
    "            \n",
    "            for current_value in all_possible_values :\n",
    "                result[current_class][j][current_value] = (X_train_current[:, j]==current_value).sum()\n",
    "    return result"
   ]
  },
  {
   "cell_type": "code",
   "execution_count": null,
   "metadata": {},
   "outputs": [],
   "source": [
    "def probability(dictionary, x, current_class) :\n",
    "    output = dictionary[current_class]['total_count'] / dictionary['total_data']\n",
    "    num_features = len(x)\n",
    "    \n",
    "    for j in range(1, num_features + 1):\n",
    "        xj = x[j]\n",
    "        count_current_class_with_value_xj = "
   ]
  },
  {
   "cell_type": "code",
   "execution_count": null,
   "metadata": {},
   "outputs": [],
   "source": [
    "def predictSinglePoint(dictionary, x) :\n",
    "    classes = dictionary.keys()\n",
    "    best_p = -1\n",
    "    best_class = -1\n",
    "    firstRun = True\n",
    "    for current_class in classes :\n",
    "        p_current_class = probability(dictionary, x, current_class)\n",
    "        if firstRun or p_current_class > best_p :\n",
    "            best_p = p_current_class\n",
    "            best_class = current_class\n",
    "            firstRun = False"
   ]
  },
  {
   "cell_type": "code",
   "execution_count": 3,
   "metadata": {},
   "outputs": [],
   "source": [
    "def predict(dictionary, X_test) :\n",
    "    y_pred = []\n",
    "    for x in X_test :\n",
    "        y_class = predictSinglePoint(dictionary, x)\n",
    "        y_pred.append(y_class)\n",
    "    return y_pred"
   ]
  }
 ],
 "metadata": {
  "kernelspec": {
   "display_name": "Python 3",
   "language": "python",
   "name": "python3"
  },
  "language_info": {
   "codemirror_mode": {
    "name": "ipython",
    "version": 3
   },
   "file_extension": ".py",
   "mimetype": "text/x-python",
   "name": "python",
   "nbconvert_exporter": "python",
   "pygments_lexer": "ipython3",
   "version": "3.7.0"
  }
 },
 "nbformat": 4,
 "nbformat_minor": 2
}
