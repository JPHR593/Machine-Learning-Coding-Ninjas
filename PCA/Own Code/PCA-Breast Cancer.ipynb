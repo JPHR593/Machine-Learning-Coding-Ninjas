{
 "cells": [
  {
   "cell_type": "markdown",
   "metadata": {},
   "source": [
    "# Applying PCA on Breast Cancer Dataset\n",
    "In this notebook, we will use Logistic Regression on Breast Cancer Dataset. We will compute the time taken by the algo and it's accuracy on Testing Data.\n",
    "Then, we will apply PCA and then apply Logistic Regression again. We will measure the time again, and the accuracy\n",
    "\n",
    "It is expected that the accuracy **might** decrease a little, but the computation time decreases as well"
   ]
  },
  {
   "cell_type": "code",
   "execution_count": 1,
   "metadata": {},
   "outputs": [],
   "source": [
    "# Importing Libraries\n",
    "from sklearn import datasets  # for breast cancer dataset\n",
    "from sklearn.linear_model import LogisticRegression  # For Logistic Regression\n",
    "from sklearn.decomposition import PCA  # For PCA\n",
    "import time  # To Measure computation time\n",
    "from sklearn.preprocessing import StandardScaler  # For Feature Scaling\n",
    "from sklearn.model_selection import train_test_split  # To split the data into training and testing\n",
    "import numpy as np"
   ]
  },
  {
   "cell_type": "code",
   "execution_count": 3,
   "metadata": {},
   "outputs": [],
   "source": [
    "# Loading dataset\n",
    "dataset = datasets.load_breast_cancer()\n",
    "\n",
    "X = dataset.data\n",
    "Y = dataset.target"
   ]
  },
  {
   "cell_type": "code",
   "execution_count": 4,
   "metadata": {},
   "outputs": [],
   "source": [
    "# Feature Scaling\n",
    "sc = StandardScaler()\n",
    "X_scaled = sc.fit_transform(X)"
   ]
  },
  {
   "cell_type": "code",
   "execution_count": 5,
   "metadata": {},
   "outputs": [],
   "source": [
    "# Splitting the data into training and testing\n",
    "X_train, X_test, Y_train, Y_test = train_test_split(X_scaled, Y, random_state = 9)"
   ]
  },
  {
   "cell_type": "markdown",
   "metadata": {},
   "source": [
    "## Calculating time and accuracy on applying PCA"
   ]
  },
  {
   "cell_type": "code",
   "execution_count": 6,
   "metadata": {},
   "outputs": [],
   "source": [
    "pca = PCA(n_components = 15)\n",
    "x_train_pca = pca.fit_transform(X_train)  # fit pca on training data and then transform it\n",
    "x_test_pca = pca.transform(X_test)  # use the previous fit PCA model to transform Testing data"
   ]
  },
  {
   "cell_type": "code",
   "execution_count": 15,
   "metadata": {},
   "outputs": [
    {
     "name": "stdout",
     "output_type": "stream",
     "text": [
      "Time taken :  1.562047004699707 ms\n",
      "0.986013986013986\n"
     ]
    },
    {
     "name": "stderr",
     "output_type": "stream",
     "text": [
      "C:\\Users\\sandh\\Anaconda3\\lib\\site-packages\\sklearn\\linear_model\\logistic.py:433: FutureWarning: Default solver will be changed to 'lbfgs' in 0.22. Specify a solver to silence this warning.\n",
      "  FutureWarning)\n"
     ]
    }
   ],
   "source": [
    "time_init = time.time()  # Starting measuring time\n",
    "\n",
    "lr_pca = LogisticRegression()\n",
    "lr_pca.fit(x_train_pca, Y_train)\n",
    "\n",
    "time_fin = time.time()  # Ending measuring time\n",
    "\n",
    "print('Time taken : ', (time_fin-time_init)*100, 'ms')\n",
    "print(lr_pca.score(x_test_pca, Y_test))"
   ]
  },
  {
   "cell_type": "markdown",
   "metadata": {},
   "source": [
    "## Calculating time and accuracy without PCA"
   ]
  },
  {
   "cell_type": "code",
   "execution_count": 19,
   "metadata": {},
   "outputs": [
    {
     "name": "stdout",
     "output_type": "stream",
     "text": [
      "Time taken :  1.5625 ms\n",
      "0.986013986013986\n"
     ]
    },
    {
     "name": "stderr",
     "output_type": "stream",
     "text": [
      "C:\\Users\\sandh\\Anaconda3\\lib\\site-packages\\sklearn\\linear_model\\logistic.py:433: FutureWarning: Default solver will be changed to 'lbfgs' in 0.22. Specify a solver to silence this warning.\n",
      "  FutureWarning)\n"
     ]
    }
   ],
   "source": [
    "time_init = time.time()  # Starting measuring time\n",
    "\n",
    "lr = LogisticRegression()\n",
    "lr.fit(X_train, Y_train)\n",
    "\n",
    "time_fin = time.time()  # Ending measuring time\n",
    "\n",
    "print('Time taken : ', (time_fin-time_init)*100, 'ms')\n",
    "print(lr.score(X_test, Y_test))"
   ]
  },
  {
   "cell_type": "code",
   "execution_count": null,
   "metadata": {},
   "outputs": [],
   "source": []
  }
 ],
 "metadata": {
  "kernelspec": {
   "display_name": "Python 3",
   "language": "python",
   "name": "python3"
  },
  "language_info": {
   "codemirror_mode": {
    "name": "ipython",
    "version": 3
   },
   "file_extension": ".py",
   "mimetype": "text/x-python",
   "name": "python",
   "nbconvert_exporter": "python",
   "pygments_lexer": "ipython3",
   "version": "3.7.1"
  }
 },
 "nbformat": 4,
 "nbformat_minor": 2
}
