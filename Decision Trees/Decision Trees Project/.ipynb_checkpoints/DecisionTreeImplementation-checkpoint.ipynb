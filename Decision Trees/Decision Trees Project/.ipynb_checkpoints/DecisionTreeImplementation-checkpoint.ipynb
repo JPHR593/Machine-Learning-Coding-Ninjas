{
 "cells": [
  {
   "cell_type": "markdown",
   "metadata": {},
   "source": [
    "# Node Class\n",
    "<strong>X</strong> : Part of Training Data this Node has<br>\n",
    "<strong>Y</strong> : Output of part of Training Data this Node has<br>\n",
    "<strong>Features_Unused</strong> : Features that are available for this Node to use<br>\n",
    "<strong>Feature_Selected</strong> : Feature that is used to split this node<br>\n",
    "<strong>Level</strong> : Level of this Node in the decision tree<br>\n",
    "<strong>Children</strong> : Array of all Children this Node has"
   ]
  },
  {
   "cell_type": "code",
   "execution_count": 2,
   "metadata": {},
   "outputs": [],
   "source": [
    "from collections import Counter\n",
    "import numpy as np"
   ]
  },
  {
   "cell_type": "code",
   "execution_count": 35,
   "metadata": {},
   "outputs": [],
   "source": [
    "class Node :\n",
    "    # Constructor function\n",
    "    def __init__(self, x, y, features_unused, level) :\n",
    "        self.x = x\n",
    "        self.y = y\n",
    "        self.features_unused = features_unused\n",
    "        self.feature_selected = None\n",
    "        self.level = level\n",
    "        self.children = []\n",
    "        \n",
    "    # find the best feature to split and then build it's subtree\n",
    "    def buildTree(self) :\n",
    "        # check if this node is leaf, if it is then return\n",
    "        if self.isLeaf() == True :\n",
    "            return \n",
    "        \n",
    "        \n",
    "    \n",
    "    # check if node is leaf or not\n",
    "    def isLeaf(self) :\n",
    "        # node is leaf if all y belong to same class or number of feature_unused = 0\n",
    "        if len(self.features_unused) == 0 :\n",
    "            return True\n",
    "        elif len(set(self.y)) == 1 :\n",
    "            return True\n",
    "        else :\n",
    "            return False\n",
    "        \n",
    "    # gets the best feature to split \n",
    "    def getBestFeatureToSplit(self) :\n",
    "        first = True  # for first feature\n",
    "        \n",
    "        best_feature = None  # best feature that will be selected \n",
    "        best_gain_ratio = None # best gain ratio\n",
    "        \n",
    "        # Trying each feature and choosing the one with best gain ratio\n",
    "        for feature in self.features_unused :\n",
    "            self.feature_selected = feature\n",
    "            print('Trying feature : ', feature)\n",
    "            self.children = []  # Empty the list of children this node has\n",
    "            \n",
    "            # Creating Feature_Unused for Children after removing this feature\n",
    "            new_features_unused = self.features_unused.copy()\n",
    "            new_features_unused.remove(feature)\n",
    "            \n",
    "            # getting all values this feature can take\n",
    "            feature_classes = set(self.x[:, feature])\n",
    "            \n",
    "            # splitting the node into multiple children\n",
    "            for feature_class in feature_classes :\n",
    "                x_new = self.x[self.x[:, feature] == feature_class]\n",
    "                y_new = self.y[self.x[:, feature] == feature_class]\n",
    "                self.children.append(Node(x_new, y_new, new_features_unused.copy(), self.level+1))\n",
    "            \n",
    "            curr_gain_ratio = self.getGainRatio()\n",
    "            \n",
    "            # compare this gain ratio with gain ratio obtained from other features\n",
    "            if first == True or curr_gain_ratio > best_gain_ratio :\n",
    "                first = False\n",
    "                best_feature = feature\n",
    "                best_gain_ratio = curr_gain_ratio\n",
    "        \n",
    "        return feature  # This is the best feature to split, return it\n",
    "\n",
    "    # get Gain Ratio of this Node on splitting\n",
    "    def getGainRatio(self) :\n",
    "        \n",
    "        # gain ratio = information gain / split info\n",
    "        \n",
    "        info_gain = self.getInformationGain()  # get value of information gain\n",
    "        split_info = self.getSplitInfo()\n",
    "        \n",
    "        return info_gain / split_info\n",
    "    \n",
    "    # get value of information gain for this node on splitting\n",
    "    def getInformationGain(self) :\n",
    "        \n",
    "        # information gain = initial entropy - final entropy\n",
    "        initial_entropy = self.getEntropy()\n",
    "        final_entropy = 0 \n",
    "        for child in self.children :\n",
    "            final_entropy += ((len(child.y)/len(self.y))*child.getEntropy())\n",
    "        \n",
    "        return initial_entropy - final_entropy\n",
    "    \n",
    "    # get split info for this node after splitting\n",
    "    def getSplitInfo(self) :\n",
    "        count = Counter(self.x[:, self.feature_selected])\n",
    "        D = np.array(list(count.values())) / len(self.y)\n",
    "        split_info = -((D*np.log(D)).sum())\n",
    "        return split_info\n",
    "    \n",
    "    # get entropy of this node\n",
    "    def getEntropy(self) :\n",
    "        output_classes = set(self.y)  # set of all output classes in y\n",
    "        count = Counter(self.y)  # counter to keep a count of various output_classes\n",
    "        p = np.array(list(count.values())) / len(self.y)  # p is an array that stores probabilities of various output_classes\n",
    "        entropy = -((p * np.log(p)).sum())  # Compute entropy using Vectorization\n",
    "        \n",
    "        return entropy"
   ]
  },
  {
   "cell_type": "code",
   "execution_count": 24,
   "metadata": {},
   "outputs": [],
   "source": [
    "dataset = [[1, 2, 0],\n",
    "          [2, 3, 0],\n",
    "          [1, 3, 1],\n",
    "          [2, 2, 1],\n",
    "          [1, 2, 0]]\n",
    "\n",
    "dataset = np.array(dataset)"
   ]
  },
  {
   "cell_type": "code",
   "execution_count": 36,
   "metadata": {},
   "outputs": [
    {
     "name": "stdout",
     "output_type": "stream",
     "text": [
      "Trying feature :  0\n",
      "Curr Gain Ratio is :  0.020570659450693123\n",
      "Trying feature :  1\n",
      "Curr Gain Ratio is :  0.020570659450693123\n"
     ]
    }
   ],
   "source": [
    "node = Node(dataset[:, 0:-1], dataset[:, -1], [0, 1], 0)\n",
    "node.getBestFeatureToSplit()"
   ]
  },
  {
   "cell_type": "code",
   "execution_count": null,
   "metadata": {},
   "outputs": [],
   "source": [
    "[]"
   ]
  }
 ],
 "metadata": {
  "colab": {
   "collapsed_sections": [],
   "name": "DecisionTreeImplementation.ipynb",
   "provenance": [],
   "version": "0.3.2"
  },
  "kernelspec": {
   "display_name": "Python 3",
   "language": "python",
   "name": "python3"
  },
  "language_info": {
   "codemirror_mode": {
    "name": "ipython",
    "version": 3
   },
   "file_extension": ".py",
   "mimetype": "text/x-python",
   "name": "python",
   "nbconvert_exporter": "python",
   "pygments_lexer": "ipython3",
   "version": "3.7.1"
  }
 },
 "nbformat": 4,
 "nbformat_minor": 1
}
