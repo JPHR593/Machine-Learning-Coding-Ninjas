{
 "cells": [
  {
   "cell_type": "markdown",
   "metadata": {},
   "source": [
    "# Finding optimal number of Features to retain in PCA\n",
    "In this Notebook, we will see how to find the optimal number of features that we need to use in PCA without losing on too much information, i.e. what is the optimal value of K"
   ]
  },
  {
   "cell_type": "markdown",
   "metadata": {},
   "source": [
    "## Step 1 : Importing Libraries"
   ]
  },
  {
   "cell_type": "code",
   "execution_count": 7,
   "metadata": {},
   "outputs": [],
   "source": [
    "import numpy as np\n",
    "from sklearn import datasets\n",
    "from sklearn.preprocessing import StandardScaler\n",
    "from sklearn.model_selection import train_test_split\n",
    "from sklearn.decomposition import PCA"
   ]
  },
  {
   "cell_type": "markdown",
   "metadata": {},
   "source": [
    "## Step 2 : Loading and Preprocessing Dataset\n",
    "This step includes loading data, applying feature scaling, dividing into testing and training data"
   ]
  },
  {
   "cell_type": "code",
   "execution_count": 3,
   "metadata": {},
   "outputs": [],
   "source": [
    "data = datasets.load_breast_cancer() # This has 30 features\n",
    "X = data.data\n",
    "Y = data.target"
   ]
  },
  {
   "cell_type": "code",
   "execution_count": 4,
   "metadata": {},
   "outputs": [],
   "source": [
    "scaler = StandardScaler()\n",
    "X_scaled = scaler.fit_transform(X)"
   ]
  },
  {
   "cell_type": "code",
   "execution_count": 6,
   "metadata": {},
   "outputs": [],
   "source": [
    "x_train, x_test, y_train, y_test = train_test_split(X_scaled, Y, random_state=9)"
   ]
  },
  {
   "cell_type": "markdown",
   "metadata": {},
   "source": [
    "## Step 3 : Finding the optimal value of K"
   ]
  },
  {
   "cell_type": "code",
   "execution_count": 9,
   "metadata": {},
   "outputs": [
    {
     "data": {
      "text/plain": [
       "array([[-2.08467219e+00, -9.24675424e-01,  1.41849431e+00, ...,\n",
       "        -2.25353802e-03, -1.56893301e-03, -2.05526077e-02],\n",
       "       [ 8.92532980e-02,  7.52189385e+00,  3.94804094e+00, ...,\n",
       "         3.92700451e-02,  1.41076541e-03,  7.12134605e-04],\n",
       "       [-1.87199556e+00, -1.10817015e-01, -1.42147276e+00, ...,\n",
       "        -2.70524052e-02, -1.41171125e-02,  1.39094363e-03],\n",
       "       ...,\n",
       "       [ 2.83199163e+00,  3.24248783e+00, -9.78314203e-01, ...,\n",
       "        -3.13454599e-02, -2.64013363e-02,  1.38056879e-02],\n",
       "       [-3.32846408e+00,  5.33594385e-01, -7.94371117e-01, ...,\n",
       "        -8.32189353e-03, -1.70456409e-02, -3.34587636e-03],\n",
       "       [-1.55282811e+00,  1.19841019e+00,  1.39552978e+00, ...,\n",
       "        -8.29891885e-03,  1.26197668e-02, -7.47087923e-03]])"
      ]
     },
     "execution_count": 9,
     "metadata": {},
     "output_type": "execute_result"
    }
   ],
   "source": [
    "# Initially, we will keep all the components of the PCA\n",
    "pca = PCA()\n",
    "pca.fit_transform(x_train)"
   ]
  },
  {
   "cell_type": "code",
   "execution_count": 10,
   "metadata": {},
   "outputs": [
    {
     "data": {
      "text/plain": [
       "array([1.37192780e+01, 5.77668054e+00, 2.92761796e+00, 1.92606196e+00,\n",
       "       1.73657729e+00, 1.19344964e+00, 7.12883924e-01, 5.05245524e-01,\n",
       "       4.60835887e-01, 3.59810245e-01, 2.94645208e-01, 2.65992633e-01,\n",
       "       2.49913311e-01, 1.57876879e-01, 8.70749459e-02, 7.55464948e-02,\n",
       "       6.11117397e-02, 5.20142460e-02, 4.14321560e-02, 3.06926112e-02,\n",
       "       2.98658892e-02, 2.67500564e-02, 2.49618718e-02, 1.67398210e-02,\n",
       "       1.51640481e-02, 8.90776608e-03, 6.78591530e-03, 1.45887029e-03,\n",
       "       6.17079691e-04, 1.28719607e-04])"
      ]
     },
     "execution_count": 10,
     "metadata": {},
     "output_type": "execute_result"
    }
   ],
   "source": [
    "# Let's look at the Eigen value of the 30 new features\n",
    "pca.explained_variance_"
   ]
  },
  {
   "cell_type": "code",
   "execution_count": 11,
   "metadata": {},
   "outputs": [
    {
     "data": {
      "text/plain": [
       "17"
      ]
     },
     "execution_count": 11,
     "metadata": {},
     "output_type": "execute_result"
    }
   ],
   "source": [
    "# Let's find the total variance, i.e. the sum of Eigen Values\n",
    "total_variance = pca.explained_variance_.sum()\n",
    "\n",
    "# Initialise K = 0, and the current variance sum = 0\n",
    "# We will keep increasing K and keep updating the current variance sum until %age of current variance\n",
    "# is 99% of the total variance (99% is a parameter that's my choice. It depends on how much you \n",
    "# are willing to compomise)\n",
    "k = 0\n",
    "current_variance = 0\n",
    "\n",
    "while current_variance/total_variance < 0.99 :\n",
    "    current_variance += pca.explained_variance_[k]\n",
    "    k += 1\n",
    "\n",
    "k"
   ]
  },
  {
   "cell_type": "markdown",
   "metadata": {},
   "source": [
    "It seems like we I keep 17 features in my breast cancer dataset, I can achieve 99% of variance that is in original data"
   ]
  }
 ],
 "metadata": {
  "kernelspec": {
   "display_name": "Python 3",
   "language": "python",
   "name": "python3"
  },
  "language_info": {
   "codemirror_mode": {
    "name": "ipython",
    "version": 3
   },
   "file_extension": ".py",
   "mimetype": "text/x-python",
   "name": "python",
   "nbconvert_exporter": "python",
   "pygments_lexer": "ipython3",
   "version": "3.7.1"
  }
 },
 "nbformat": 4,
 "nbformat_minor": 2
}
