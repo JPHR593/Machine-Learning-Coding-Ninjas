{
 "cells": [
  {
   "cell_type": "code",
   "execution_count": 1,
   "metadata": {},
   "outputs": [],
   "source": [
    "import numpy as np"
   ]
  },
  {
   "cell_type": "code",
   "execution_count": 5,
   "metadata": {},
   "outputs": [],
   "source": [
    "data = np.loadtxt('data.csv', delimiter = ',')"
   ]
  },
  {
   "cell_type": "code",
   "execution_count": 6,
   "metadata": {},
   "outputs": [],
   "source": [
    "x = data[:, 0]\n",
    "y = data[:, 1]"
   ]
  },
  {
   "cell_type": "code",
   "execution_count": 7,
   "metadata": {},
   "outputs": [],
   "source": [
    "from sklearn import model_selection\n",
    "x_train, x_test, y_train, y_test = model_selection.train_test_split(x, y)"
   ]
  },
  {
   "cell_type": "code",
   "execution_count": 8,
   "metadata": {},
   "outputs": [],
   "source": [
    "def fit(x_train, y_train) :\n",
    "    numerator = (x_train*y_train).mean() - (x_train.mean() * y_train.mean())\n",
    "    denominator = (x_train ** 2).mean() - (x_train.mean() ** 2)\n",
    "    m = numerator / denominator\n",
    "    \n",
    "    c = y_train.mean() - m * x_train.mean()\n",
    "    \n",
    "    return m, c"
   ]
  },
  {
   "cell_type": "code",
   "execution_count": 9,
   "metadata": {},
   "outputs": [],
   "source": [
    "# x is input vector, m and c are constants\n",
    "def predict(x, m, c) :\n",
    "    return m*x+c\n",
    "\n",
    "def score(x, y, m, c) :\n",
    "    y_pred = predict(x, m, c)\n",
    "    u = ((y - y_pred)**2).sum()\n",
    "    v = ((y - y.mean())**2).sum()\n",
    "    sc = 1 - (u/v)\n",
    "    return sc"
   ]
  },
  {
   "cell_type": "code",
   "execution_count": 10,
   "metadata": {},
   "outputs": [
    {
     "name": "stdout",
     "output_type": "stream",
     "text": [
      "Test Score 0.42095150335143106\n",
      "Train Score 0.6244118042066549\n",
      "M :  1.3472948172495463  and C :  7.314144756857317\n"
     ]
    }
   ],
   "source": [
    "m, c = fit(x_train, y_train)\n",
    "\n",
    "# test data\n",
    "y_test_pred = predict(x_test, m, c)\n",
    "print(\"Test Score\", score(x_test, y_test, m, c))\n",
    "\n",
    "# train data\n",
    "y_train_pred = predict(x_train, m, c)\n",
    "print(\"Train Score\", score(x_train, y_train, m, c))\n",
    "\n",
    "# Printing the value of m and c\n",
    "print(\"M : \", m, \" and C : \", c)"
   ]
  },
  {
   "cell_type": "code",
   "execution_count": null,
   "metadata": {},
   "outputs": [],
   "source": []
  }
 ],
 "metadata": {
  "kernelspec": {
   "display_name": "Python 3",
   "language": "python",
   "name": "python3"
  },
  "language_info": {
   "codemirror_mode": {
    "name": "ipython",
    "version": 3
   },
   "file_extension": ".py",
   "mimetype": "text/x-python",
   "name": "python",
   "nbconvert_exporter": "python",
   "pygments_lexer": "ipython3",
   "version": "3.7.0"
  }
 },
 "nbformat": 4,
 "nbformat_minor": 2
}
